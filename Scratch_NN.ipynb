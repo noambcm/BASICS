{
 "cells": [
  {
   "cell_type": "code",
   "execution_count": null,
   "metadata": {},
   "outputs": [],
   "source": [
    "# 3 inputs with one neuron in one hidden layer and one output\n",
    "# sigmoid\n",
    "# We decide to adjust weights by error*input*sigmoid'(output)\n",
    "\n",
    "import numpy as np\n",
    "\n",
    "class Neural_Network():\n",
    "\n",
    "    def __init__(self):\n",
    "        np.random.seed()\n",
    "        self.weights = 2*np.random.random(3,1) - 1\n",
    "\n",
    "    def sigmoid(self,x):\n",
    "        return 1/(1 + np.exp(-x))\n",
    "    \n",
    "    def prime_sigmoid(self,x):\n",
    "        return x*(1-x)\n",
    "    \n",
    "    def think(self, inputs):\n",
    "        argument = np.dot(inputs, self.weights)\n",
    "        output = self.sigmoid(argument)\n",
    "        return output\n",
    "    \n",
    "    def train(self, training_inputs, training_outputs, training_iterations):\n",
    "        for iteration in range(training_iterations):\n",
    "            output = self.think(training_inputs)\n",
    "            error = training_outputs - output\n",
    "            adjustements = np.dot(training_inputs.T, error*self.prime_sigmoid(output))\n",
    "            self.weights += adjustements"
   ]
  }
 ],
 "metadata": {
  "kernelspec": {
   "display_name": "Python 3",
   "language": "python",
   "name": "python3"
  },
  "language_info": {
   "codemirror_mode": {
    "name": "ipython",
    "version": 3
   },
   "file_extension": ".py",
   "mimetype": "text/x-python",
   "name": "python",
   "nbconvert_exporter": "python",
   "pygments_lexer": "ipython3",
   "version": "3.12.4"
  }
 },
 "nbformat": 4,
 "nbformat_minor": 2
}
