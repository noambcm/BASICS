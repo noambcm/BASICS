{
 "cells": [
  {
   "cell_type": "code",
   "execution_count": null,
   "metadata": {},
   "outputs": [],
   "source": [
    "# The aim is to modelize the 'influence' two correlated Brownian Motions have on one another.\n",
    "# The 2 Brownian motions represent the 'driving process' of the two different assets\n",
    "# Cholesky decomposition : A definite positive symetric matrix \n",
    "# There exists an inf triangular matrix L such that A = L*(L)T\n",
    "\n",
    "import numpy as np\n",
    "import matplotlib.pyplot as plt\n",
    "\n",
    "rho = -0.5 # Opposed movements and rho is in (-1, 1) so C is symetric positive definite\n",
    "T = 1 # 1 Month\n",
    "n_steps = 1000\n",
    "time = np.linspace(0, T, n_steps) # Array of space times, subdivision\n",
    "dt = T/n_steps # Time interval\n",
    "C = np.array([[1, rho],    # Correlation matrix of the two brownian motions\n",
    "              [rho, 1]])\n",
    "L = np.array([[1, 0],      # Matrix L of the Cholesky decomposition of C, represents the correlation between each BM \n",
    "              [rho, np.sqrt(1-rho**2)]])  \n",
    "dZ = np.random.normal(0, np.sqrt(dt), size = (2, n_steps))  # 2 because we study two BM, dZ has two dim\n",
    "dW = L @ dZ  # Matrix multiplication : 2*2 and 2*1 --> 2*1\n",
    "W = np.cumsum(dW, axis=1) # we have to integrate to get the continuous value bc infinitesimal notions"
   ]
  },
  {
   "cell_type": "markdown",
   "metadata": {},
   "source": [
    "![Correlated Brownian Motions](illustration-correlated-MB.png)"
   ]
  },
  {
   "cell_type": "markdown",
   "metadata": {},
   "source": []
  }
 ],
 "metadata": {
  "kernelspec": {
   "display_name": "Python 3",
   "language": "python",
   "name": "python3"
  },
  "language_info": {
   "codemirror_mode": {
    "name": "ipython",
    "version": 3
   },
   "file_extension": ".py",
   "mimetype": "text/x-python",
   "name": "python",
   "nbconvert_exporter": "python",
   "pygments_lexer": "ipython3",
   "version": "3.12.4"
  }
 },
 "nbformat": 4,
 "nbformat_minor": 2
}
